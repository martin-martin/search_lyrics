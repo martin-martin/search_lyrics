{
 "cells": [
  {
   "cell_type": "code",
   "execution_count": 31,
   "metadata": {
    "collapsed": false
   },
   "outputs": [],
   "source": [
    "import re\n",
    "from nltk.tokenize import sent_tokenize\n",
    "from pprint import pprint"
   ]
  },
  {
   "cell_type": "markdown",
   "metadata": {},
   "source": [
    "sentence is just a line\n",
    "whole stanza would also be interesting\n",
    "\n",
    "line = sentence\n",
    "period = stanza"
   ]
  },
  {
   "cell_type": "code",
   "execution_count": 4,
   "metadata": {
    "collapsed": true
   },
   "outputs": [],
   "source": [
    "lyrics = \"\"\"\n",
    "Sebastian Yatra \n",
    "Yatra, Yatra. \n",
    "\n",
    "Tú me dices que no es cierto que te mueres por mí \n",
    "si es verdad que no te gusto no te acerques así \n",
    "me dijeron que te encanta que se mueran por ti \n",
    "buscando al que se enamora para hacerlo sufrir.\n",
    "\n",
    "Si me dices que me amas no te voy a creer (no) \n",
    "tu me dices que me quieres y no puedes ser fiel (no) \n",
    "me dejaste manejando solo y triste mujer (no) \n",
    "te confieso si lo quieres saber, si lo quieres saber. \n",
    "\n",
    "Traicionera, no me importa lo que tú me quieras \n",
    "mentirosa, solo quieres que de amor me muera \n",
    "traicionera, en mi vida fuiste pasajera \n",
    "mentirosa, no me importa que de amor te mueras.\n",
    "\n",
    "Ohh, ohh \n",
    "Mentirosa, no me importa que de amor te mueras \n",
    "\n",
    "Sigues bailando reggaeton, ton, ton \n",
    "y no te importa para nada lo que sienta el corazón \n",
    "solo te importa el pantalón, lon, lon \n",
    "y se te nota desde lejos tu maléfica intención \n",
    "y mira no es tan fácil \n",
    "enamorarme nunca fue tan fácil \n",
    "cuando estas cerca de mi no es fácil \n",
    "y es que la vida se volvió difícil \n",
    "solo por ti.\n",
    "\n",
    "Si me dices que me amas no te voy a creer (no) \n",
    "tu me dices que me quieres y no puedes ser fiel (no) \n",
    "me dejaste manejando solo y triste mujer (no) \n",
    "te confieso si lo quieres saber, si lo quieres saber. \n",
    "\n",
    "Traicionera, no me importa lo que tú me quieras \n",
    "mentirosa, solo quieres que de amor me muera \n",
    "traicionera, en mi vida fuiste pasajera \n",
    "mentirosa, no me importa que de amor te mueras.\n",
    "\n",
    "Ohh, ohh \n",
    "Mentirosa, no me importa que de amor te mueras.\n",
    "\n",
    "Tú me dices que no es cierto que te mueres por mí \n",
    "si es verdad que no te gusto no te acerques así. \n",
    "\n",
    "Traicionera, no me importa lo que tú me quieras \n",
    "mentirosa, solo quieres que de amor me muera \n",
    "traicionera, en mi vida fuiste pasajera \n",
    "mentirosa, no me importa que de amor te mueras.\n",
    "\n",
    "Ohh, ohh \n",
    "Mentirosa, no me importa que de amor te mueras\n",
    "mentirosa, no me importa que de amor te mueras.\n",
    "\n",
    "Sebastian Yatra \n",
    "Yatra, Yatra\"\"\""
   ]
  },
  {
   "cell_type": "code",
   "execution_count": 52,
   "metadata": {
    "collapsed": false
   },
   "outputs": [],
   "source": [
    "def get_stanzas(lyrics):\n",
    "    tok_stanzas = sent_tokenize(lyrics)\n",
    "    return tok_stanzas\n",
    "\n",
    "def get_lines(stanza):\n",
    "    tok_lines = stanza.split(\"\\n\")\n",
    "    return tok_lines\n",
    "    \n",
    "def tokenize_lyrics(lyrics):\n",
    "    tok_lyrics = []\n",
    "    stanzas = get_stanzas(lyrics)\n",
    "    for stanza in stanzas:\n",
    "        tok_stanza = get_lines(stanza)\n",
    "        tok_lyrics.append(tok_stanza)\n",
    "    return tok_lyrics\n",
    "\n",
    "def locate_lines(lyrics_tok):\n",
    "    loc_info = []\n",
    "    for stanza in lyrics_tok:\n",
    "        s = []\n",
    "        for li_i in [line for line in enumerate(stanza)]:\n",
    "            s.append(li_i)\n",
    "        loc_info.append(s)\n",
    "    return loc_info"
   ]
  },
  {
   "cell_type": "code",
   "execution_count": 53,
   "metadata": {
    "collapsed": false
   },
   "outputs": [],
   "source": [
    "loc_info = locate_lines(tokenize_lyrics(lyrics))"
   ]
  },
  {
   "cell_type": "code",
   "execution_count": 63,
   "metadata": {
    "collapsed": false
   },
   "outputs": [
    {
     "name": "stdout",
     "output_type": "stream",
     "text": [
      "[(4, (7, 'y mira no es tan fácil ')),\n",
      " (4, (8, 'enamorarme nunca fue tan fácil ')),\n",
      " (4, (9, 'cuando estas cerca de mi no es fácil '))]\n"
     ]
    }
   ],
   "source": [
    "## ENTER WORD BELOW ##\n",
    "user_input = \"fácil\"\n",
    "######################\n",
    "\n",
    "# then press SHIFT + ENTER\n",
    "\n",
    "regex = re.compile(r\"{}\".format(user_input))\n",
    "\n",
    "results = []\n",
    "for stanza_i in [stanza for stanza in enumerate(loc_info)]:\n",
    "    for line in stanza_i[1]:\n",
    "        if re.search(regex, line[1]):\n",
    "            results.append((stanza_i[0], line))\n",
    "        \n",
    "pprint(results)"
   ]
  }
 ],
 "metadata": {
  "anaconda-cloud": {},
  "kernelspec": {
   "display_name": "Python [conda env:car]",
   "language": "python",
   "name": "conda-env-car-py"
  },
  "language_info": {
   "codemirror_mode": {
    "name": "ipython",
    "version": 3
   },
   "file_extension": ".py",
   "mimetype": "text/x-python",
   "name": "python",
   "nbconvert_exporter": "python",
   "pygments_lexer": "ipython3",
   "version": "3.5.2"
  }
 },
 "nbformat": 4,
 "nbformat_minor": 1
}
